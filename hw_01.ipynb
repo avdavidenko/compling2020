{
 "cells": [
  {
   "cell_type": "markdown",
   "metadata": {
    "colab_type": "text",
    "id": "nzfD_Wk1ZN6L"
   },
   "source": [
    "# Домашнее задание №1\n",
    "\n",
    "### **Dataset of depressive posts in Russian language collected from social media** [(paper)](https://www.sciencedirect.com/science/article/pii/S2352340920300895)\n",
    "\n",
    "Скачать датасет в формате .tsv можно [здесь](https://yadi.sk/d/G5rq-R3AK8SOuw).\n",
    "\n",
    "\n",
    "В качестве задания предлагается:\n",
    "1. Использовать ```pandas``` и ряд инструментов для автоматической обработки текстов на русском языке, чтобы ответить на вопросы.\n",
    "2. Написать функции для извлечения текстовых признаков.\n",
    "\n",
    "Не рекомендуется использовать ```nltk``` для сегментации/токенизации текстов, поскольку существуют инструменты, которые выполняют свою задачу для русского значительно лучше – их мы обсуждали с вами на занятии.\n",
    "\n",
    "\n",
    "**Дедлайн**: 23 сентября 23:59"
   ]
  },
  {
   "cell_type": "code",
   "execution_count": 1,
   "metadata": {
    "colab": {
     "base_uri": "https://localhost:8080/",
     "height": 197
    },
    "colab_type": "code",
    "id": "9tsSaFBdgu1B",
    "outputId": "ab4f6872-15f1-4257-d370-0903ab9fc978"
   },
   "outputs": [
    {
     "data": {
      "text/html": [
       "<div>\n",
       "<style scoped>\n",
       "    .dataframe tbody tr th:only-of-type {\n",
       "        vertical-align: middle;\n",
       "    }\n",
       "\n",
       "    .dataframe tbody tr th {\n",
       "        vertical-align: top;\n",
       "    }\n",
       "\n",
       "    .dataframe thead th {\n",
       "        text-align: right;\n",
       "    }\n",
       "</style>\n",
       "<table border=\"1\" class=\"dataframe\">\n",
       "  <thead>\n",
       "    <tr style=\"text-align: right;\">\n",
       "      <th></th>\n",
       "      <th>text</th>\n",
       "      <th>label</th>\n",
       "      <th>age</th>\n",
       "    </tr>\n",
       "  </thead>\n",
       "  <tbody>\n",
       "    <tr>\n",
       "      <th>0</th>\n",
       "      <td>Когда-то я был добрым романтиком, который стре...</td>\n",
       "      <td>1</td>\n",
       "      <td>32.0</td>\n",
       "    </tr>\n",
       "    <tr>\n",
       "      <th>1</th>\n",
       "      <td>Здраствуйте! Я каждый день просыпаюсь с мыслью...</td>\n",
       "      <td>1</td>\n",
       "      <td>28.0</td>\n",
       "    </tr>\n",
       "    <tr>\n",
       "      <th>2</th>\n",
       "      <td>У меня проблемы с девушкой. Каждую ссору я не ...</td>\n",
       "      <td>1</td>\n",
       "      <td>16.0</td>\n",
       "    </tr>\n",
       "    <tr>\n",
       "      <th>3</th>\n",
       "      <td>Вся моя жизнь это один сплошной ад, в котором ...</td>\n",
       "      <td>1</td>\n",
       "      <td>32.0</td>\n",
       "    </tr>\n",
       "    <tr>\n",
       "      <th>4</th>\n",
       "      <td>Я хочу уснуть и не проснуться.каждый день одно...</td>\n",
       "      <td>1</td>\n",
       "      <td>14.0</td>\n",
       "    </tr>\n",
       "  </tbody>\n",
       "</table>\n",
       "</div>"
      ],
      "text/plain": [
       "                                                text  label   age\n",
       "0  Когда-то я был добрым романтиком, который стре...      1  32.0\n",
       "1  Здраствуйте! Я каждый день просыпаюсь с мыслью...      1  28.0\n",
       "2  У меня проблемы с девушкой. Каждую ссору я не ...      1  16.0\n",
       "3  Вся моя жизнь это один сплошной ад, в котором ...      1  32.0\n",
       "4  Я хочу уснуть и не проснуться.каждый день одно...      1  14.0"
      ]
     },
     "execution_count": 1,
     "metadata": {},
     "output_type": "execute_result"
    }
   ],
   "source": [
    "import pandas as pd\n",
    "\n",
    "\n",
    "df = pd.read_csv(\"depression_data.tsv\", sep=\"\\t\")\n",
    "df.head()"
   ]
  },
  {
   "cell_type": "markdown",
   "metadata": {
    "colab_type": "text",
    "id": "jgwa7XyGfuCI"
   },
   "source": [
    "### Часть 1: Простая статистика (2 балла)"
   ]
  },
  {
   "cell_type": "markdown",
   "metadata": {
    "colab_type": "text",
    "id": "YP1iOWbjh2zw"
   },
   "source": [
    "Зачастую в данных, с которыми вы работаете, может быть много неприятных для обработки вещей. Например, мы видим, что в колонке ```age``` очень грязные значения."
   ]
  },
  {
   "cell_type": "code",
   "execution_count": 2,
   "metadata": {
    "colab": {
     "base_uri": "https://localhost:8080/",
     "height": 244
    },
    "colab_type": "code",
    "id": "uDW6JMhwZuS8",
    "outputId": "5c8f2a9e-2d21-4b1d-9187-e3bc0eaa5db5"
   },
   "outputs": [
    {
     "data": {
      "text/plain": [
       "16.0      1823\n",
       "17.0      1811\n",
       "18.0      1661\n",
       "15.0      1582\n",
       "20.0      1543\n",
       "          ... \n",
       "116.0        1\n",
       "295.0        1\n",
       "2425.0       1\n",
       "92.0         1\n",
       "830.0        1\n",
       "Name: age, Length: 128, dtype: int64"
      ]
     },
     "execution_count": 2,
     "metadata": {},
     "output_type": "execute_result"
    }
   ],
   "source": [
    "df[\"age\"].value_counts()"
   ]
  },
  {
   "cell_type": "markdown",
   "metadata": {
    "colab_type": "text",
    "id": "5SqrBy6iloMd"
   },
   "source": [
    "1. Найдите среднее значение возраста в диапазоне от 14 до 50 лет включительно."
   ]
  },
  {
   "cell_type": "code",
   "execution_count": 3,
   "metadata": {
    "colab": {},
    "colab_type": "code",
    "id": "6AbzQhkakRfc"
   },
   "outputs": [
    {
     "data": {
      "text/plain": [
       "22.704171601526518"
      ]
     },
     "execution_count": 3,
     "metadata": {},
     "output_type": "execute_result"
    }
   ],
   "source": [
    "# your code and output here\n",
    "import numpy\n",
    "\n",
    "new_df = df[df['age'] >= 14]\n",
    "new_df = new_df[new_df['age'] <= 50]\n",
    "\n",
    "numpy.mean(new_df['age'])"
   ]
  },
  {
   "cell_type": "markdown",
   "metadata": {
    "colab_type": "text",
    "id": "Pw5gpMkDk4R6"
   },
   "source": [
    "2. Какую долю 16-летние авторы составляют в диапазоне от 16 до 26 лет включительно?"
   ]
  },
  {
   "cell_type": "code",
   "execution_count": 4,
   "metadata": {
    "colab": {},
    "colab_type": "code",
    "id": "qXejPDLZj3eX"
   },
   "outputs": [],
   "source": [
    "# your code and output here\n",
    "new_df = df[df['age'] >= 16]\n",
    "new_df = new_df[new_df['age'] <= 26]"
   ]
  },
  {
   "cell_type": "code",
   "execution_count": 5,
   "metadata": {},
   "outputs": [],
   "source": [
    "df_16 = df[df['age'] == 16]"
   ]
  },
  {
   "cell_type": "code",
   "execution_count": 6,
   "metadata": {},
   "outputs": [
    {
     "data": {
      "text/plain": [
       "0.1259412780656304"
      ]
     },
     "execution_count": 6,
     "metadata": {},
     "output_type": "execute_result"
    }
   ],
   "source": [
    "part_of_16 = len(df_16['age'])/len(new_df['age'])\n",
    "part_of_16"
   ]
  },
  {
   "cell_type": "markdown",
   "metadata": {
    "colab_type": "text",
    "id": "vGinA-Swjvlc"
   },
   "source": [
    "3. Сколько в датасете текстов, авторам которых 28 или 30 лет?"
   ]
  },
  {
   "cell_type": "code",
   "execution_count": 7,
   "metadata": {
    "colab": {},
    "colab_type": "code",
    "id": "QNz0sLmjYLxr"
   },
   "outputs": [
    {
     "data": {
      "text/plain": [
       "1185"
      ]
     },
     "execution_count": 7,
     "metadata": {},
     "output_type": "execute_result"
    }
   ],
   "source": [
    "# your code and output here\n",
    "df_28 = df[df['age'] == 28]\n",
    "df_30 = df[df['age'] == 30]\n",
    "\n",
    "sum_of_28_30 = len(df_28['age']) + len(df_30['age'])\n",
    "sum_of_28_30"
   ]
  },
  {
   "cell_type": "markdown",
   "metadata": {
    "colab_type": "text",
    "id": "WIiciL_BnJzl"
   },
   "source": [
    "4. С помощью одной встроенной в ```pandas``` функции отобразите всю статистику по колонке ```age``` в диапазоне от 18 до 30 лет включительно."
   ]
  },
  {
   "cell_type": "code",
   "execution_count": 8,
   "metadata": {
    "colab": {},
    "colab_type": "code",
    "id": "q2cC4Sxanka6"
   },
   "outputs": [
    {
     "data": {
      "text/plain": [
       "count    13205.000000\n",
       "mean        22.676638\n",
       "std          3.550254\n",
       "min         18.000000\n",
       "25%         20.000000\n",
       "50%         22.000000\n",
       "75%         25.000000\n",
       "max         30.000000\n",
       "Name: age, dtype: float64"
      ]
     },
     "execution_count": 8,
     "metadata": {},
     "output_type": "execute_result"
    }
   ],
   "source": [
    "# your code and output here\n",
    "new_df = df[df['age'] >= 18]\n",
    "new_df = new_df[new_df['age'] <= 30]\n",
    "new_df['age'].describe()"
   ]
  },
  {
   "cell_type": "markdown",
   "metadata": {
    "colab_type": "text",
    "id": "CT99FXGjoGs1"
   },
   "source": [
    "5. Сколько в датасете положительных / отрицательных примеров?"
   ]
  },
  {
   "cell_type": "code",
   "execution_count": 9,
   "metadata": {
    "colab": {},
    "colab_type": "code",
    "id": "j-nelLWJoMpT"
   },
   "outputs": [
    {
     "name": "stdout",
     "output_type": "stream",
     "text": [
      "32021\n",
      "32018\n"
     ]
    }
   ],
   "source": [
    "# your code and output here\n",
    "label_0 = df[df['label'] == 0]\n",
    "label_1 = df[df['label'] == 1]\n",
    "\n",
    "print(len(label_0['label']))\n",
    "\n",
    "print(len(label_1['label']))"
   ]
  },
  {
   "cell_type": "markdown",
   "metadata": {
    "colab_type": "text",
    "id": "QHldQF5FoAyB"
   },
   "source": [
    "### Часть 2: Предобработка (3 балла)"
   ]
  },
  {
   "cell_type": "markdown",
   "metadata": {
    "colab_type": "text",
    "id": "Mc1d4G-q671X"
   },
   "source": [
    "1. Посчитайте количество предложений в каждом тексте. Сохраните эти значения в отдельной колонке датафрейма."
   ]
  },
  {
   "cell_type": "code",
   "execution_count": 10,
   "metadata": {
    "colab": {},
    "colab_type": "code",
    "id": "HTni9dHd-NMz"
   },
   "outputs": [],
   "source": [
    "# your code and output here\n",
    "import re\n",
    "numbers = []\n",
    "for text in df['text']:\n",
    "    new_text = re.sub(r'[.!?]\\s', r'|', text)\n",
    "    num = len(new_text.split('|'))\n",
    "    numbers.append(num)\n",
    "df['sent_count'] = numbers"
   ]
  },
  {
   "cell_type": "code",
   "execution_count": 11,
   "metadata": {},
   "outputs": [
    {
     "data": {
      "text/html": [
       "<div>\n",
       "<style scoped>\n",
       "    .dataframe tbody tr th:only-of-type {\n",
       "        vertical-align: middle;\n",
       "    }\n",
       "\n",
       "    .dataframe tbody tr th {\n",
       "        vertical-align: top;\n",
       "    }\n",
       "\n",
       "    .dataframe thead th {\n",
       "        text-align: right;\n",
       "    }\n",
       "</style>\n",
       "<table border=\"1\" class=\"dataframe\">\n",
       "  <thead>\n",
       "    <tr style=\"text-align: right;\">\n",
       "      <th></th>\n",
       "      <th>text</th>\n",
       "      <th>label</th>\n",
       "      <th>age</th>\n",
       "      <th>sent_count</th>\n",
       "    </tr>\n",
       "  </thead>\n",
       "  <tbody>\n",
       "    <tr>\n",
       "      <th>0</th>\n",
       "      <td>Когда-то я был добрым романтиком, который стре...</td>\n",
       "      <td>1</td>\n",
       "      <td>32.0</td>\n",
       "      <td>16</td>\n",
       "    </tr>\n",
       "    <tr>\n",
       "      <th>1</th>\n",
       "      <td>Здраствуйте! Я каждый день просыпаюсь с мыслью...</td>\n",
       "      <td>1</td>\n",
       "      <td>28.0</td>\n",
       "      <td>6</td>\n",
       "    </tr>\n",
       "    <tr>\n",
       "      <th>2</th>\n",
       "      <td>У меня проблемы с девушкой. Каждую ссору я не ...</td>\n",
       "      <td>1</td>\n",
       "      <td>16.0</td>\n",
       "      <td>11</td>\n",
       "    </tr>\n",
       "    <tr>\n",
       "      <th>3</th>\n",
       "      <td>Вся моя жизнь это один сплошной ад, в котором ...</td>\n",
       "      <td>1</td>\n",
       "      <td>32.0</td>\n",
       "      <td>6</td>\n",
       "    </tr>\n",
       "    <tr>\n",
       "      <th>4</th>\n",
       "      <td>Я хочу уснуть и не проснуться.каждый день одно...</td>\n",
       "      <td>1</td>\n",
       "      <td>14.0</td>\n",
       "      <td>18</td>\n",
       "    </tr>\n",
       "    <tr>\n",
       "      <th>...</th>\n",
       "      <td>...</td>\n",
       "      <td>...</td>\n",
       "      <td>...</td>\n",
       "      <td>...</td>\n",
       "    </tr>\n",
       "    <tr>\n",
       "      <th>64034</th>\n",
       "      <td>Южная Корея будет внедрять свои технологии в К...</td>\n",
       "      <td>0</td>\n",
       "      <td>NaN</td>\n",
       "      <td>1</td>\n",
       "    </tr>\n",
       "    <tr>\n",
       "      <th>64035</th>\n",
       "      <td>В минувшие выходные в спортблоке КалмГУ прошли...</td>\n",
       "      <td>0</td>\n",
       "      <td>NaN</td>\n",
       "      <td>12</td>\n",
       "    </tr>\n",
       "    <tr>\n",
       "      <th>64036</th>\n",
       "      <td>ВТБ подвел итоги первого корпоративного акселе...</td>\n",
       "      <td>0</td>\n",
       "      <td>NaN</td>\n",
       "      <td>19</td>\n",
       "    </tr>\n",
       "    <tr>\n",
       "      <th>64037</th>\n",
       "      <td>ВТБ запустит бесплатное пополнение карт других...</td>\n",
       "      <td>0</td>\n",
       "      <td>NaN</td>\n",
       "      <td>6</td>\n",
       "    </tr>\n",
       "    <tr>\n",
       "      <th>64038</th>\n",
       "      <td>В Сызрани вновь пройдет \"Ярмарка вакансий\" для...</td>\n",
       "      <td>0</td>\n",
       "      <td>NaN</td>\n",
       "      <td>7</td>\n",
       "    </tr>\n",
       "  </tbody>\n",
       "</table>\n",
       "<p>64039 rows × 4 columns</p>\n",
       "</div>"
      ],
      "text/plain": [
       "                                                    text  label   age  \\\n",
       "0      Когда-то я был добрым романтиком, который стре...      1  32.0   \n",
       "1      Здраствуйте! Я каждый день просыпаюсь с мыслью...      1  28.0   \n",
       "2      У меня проблемы с девушкой. Каждую ссору я не ...      1  16.0   \n",
       "3      Вся моя жизнь это один сплошной ад, в котором ...      1  32.0   \n",
       "4      Я хочу уснуть и не проснуться.каждый день одно...      1  14.0   \n",
       "...                                                  ...    ...   ...   \n",
       "64034  Южная Корея будет внедрять свои технологии в К...      0   NaN   \n",
       "64035  В минувшие выходные в спортблоке КалмГУ прошли...      0   NaN   \n",
       "64036  ВТБ подвел итоги первого корпоративного акселе...      0   NaN   \n",
       "64037  ВТБ запустит бесплатное пополнение карт других...      0   NaN   \n",
       "64038  В Сызрани вновь пройдет \"Ярмарка вакансий\" для...      0   NaN   \n",
       "\n",
       "       sent_count  \n",
       "0              16  \n",
       "1               6  \n",
       "2              11  \n",
       "3               6  \n",
       "4              18  \n",
       "...           ...  \n",
       "64034           1  \n",
       "64035          12  \n",
       "64036          19  \n",
       "64037           6  \n",
       "64038           7  \n",
       "\n",
       "[64039 rows x 4 columns]"
      ]
     },
     "execution_count": 11,
     "metadata": {},
     "output_type": "execute_result"
    }
   ],
   "source": [
    "df"
   ]
  },
  {
   "cell_type": "markdown",
   "metadata": {
    "colab_type": "text",
    "id": "NX7FxEafFTiy"
   },
   "source": [
    "2. Напишите функцию для токенизации текста. Удалите стоп-слова."
   ]
  },
  {
   "cell_type": "code",
   "execution_count": 12,
   "metadata": {
    "colab": {},
    "colab_type": "code",
    "id": "Y1S782xBFlIi"
   },
   "outputs": [],
   "source": [
    "# your code and output here\n",
    "from nltk.corpus import stopwords\n",
    "stop_words = set(stopwords.words(\"russian\"))"
   ]
  },
  {
   "cell_type": "code",
   "execution_count": 13,
   "metadata": {},
   "outputs": [],
   "source": [
    "def tokenize (text):\n",
    "    text = text.lower()\n",
    "    text = re.sub(r'[.!?]\\s', r' ', text)\n",
    "    words = text.split()\n",
    "    clean_words = []\n",
    "    for word in words:\n",
    "        if word not in stop_words:\n",
    "            clean_words.append(word)\n",
    "    return clean_words"
   ]
  },
  {
   "cell_type": "markdown",
   "metadata": {
    "colab_type": "text",
    "id": "HVq8if4s8q_1"
   },
   "source": [
    "3. Посчитайте количество токенов в тексте (без стоп-слов). Найдите среднее этих значений как по всей выборке, так и внутри каждого класса. "
   ]
  },
  {
   "cell_type": "code",
   "execution_count": 14,
   "metadata": {
    "colab": {},
    "colab_type": "code",
    "id": "rP8_BV3I-RPE"
   },
   "outputs": [
    {
     "data": {
      "text/html": [
       "<div>\n",
       "<style scoped>\n",
       "    .dataframe tbody tr th:only-of-type {\n",
       "        vertical-align: middle;\n",
       "    }\n",
       "\n",
       "    .dataframe tbody tr th {\n",
       "        vertical-align: top;\n",
       "    }\n",
       "\n",
       "    .dataframe thead th {\n",
       "        text-align: right;\n",
       "    }\n",
       "</style>\n",
       "<table border=\"1\" class=\"dataframe\">\n",
       "  <thead>\n",
       "    <tr style=\"text-align: right;\">\n",
       "      <th></th>\n",
       "      <th>text</th>\n",
       "      <th>label</th>\n",
       "      <th>age</th>\n",
       "      <th>sent_count</th>\n",
       "      <th>token_count</th>\n",
       "    </tr>\n",
       "  </thead>\n",
       "  <tbody>\n",
       "    <tr>\n",
       "      <th>0</th>\n",
       "      <td>Когда-то я был добрым романтиком, который стре...</td>\n",
       "      <td>1</td>\n",
       "      <td>32.0</td>\n",
       "      <td>16</td>\n",
       "      <td>167</td>\n",
       "    </tr>\n",
       "    <tr>\n",
       "      <th>1</th>\n",
       "      <td>Здраствуйте! Я каждый день просыпаюсь с мыслью...</td>\n",
       "      <td>1</td>\n",
       "      <td>28.0</td>\n",
       "      <td>6</td>\n",
       "      <td>67</td>\n",
       "    </tr>\n",
       "    <tr>\n",
       "      <th>2</th>\n",
       "      <td>У меня проблемы с девушкой. Каждую ссору я не ...</td>\n",
       "      <td>1</td>\n",
       "      <td>16.0</td>\n",
       "      <td>11</td>\n",
       "      <td>44</td>\n",
       "    </tr>\n",
       "    <tr>\n",
       "      <th>3</th>\n",
       "      <td>Вся моя жизнь это один сплошной ад, в котором ...</td>\n",
       "      <td>1</td>\n",
       "      <td>32.0</td>\n",
       "      <td>6</td>\n",
       "      <td>25</td>\n",
       "    </tr>\n",
       "    <tr>\n",
       "      <th>4</th>\n",
       "      <td>Я хочу уснуть и не проснуться.каждый день одно...</td>\n",
       "      <td>1</td>\n",
       "      <td>14.0</td>\n",
       "      <td>18</td>\n",
       "      <td>196</td>\n",
       "    </tr>\n",
       "    <tr>\n",
       "      <th>...</th>\n",
       "      <td>...</td>\n",
       "      <td>...</td>\n",
       "      <td>...</td>\n",
       "      <td>...</td>\n",
       "      <td>...</td>\n",
       "    </tr>\n",
       "    <tr>\n",
       "      <th>64034</th>\n",
       "      <td>Южная Корея будет внедрять свои технологии в К...</td>\n",
       "      <td>0</td>\n",
       "      <td>NaN</td>\n",
       "      <td>1</td>\n",
       "      <td>21</td>\n",
       "    </tr>\n",
       "    <tr>\n",
       "      <th>64035</th>\n",
       "      <td>В минувшие выходные в спортблоке КалмГУ прошли...</td>\n",
       "      <td>0</td>\n",
       "      <td>NaN</td>\n",
       "      <td>12</td>\n",
       "      <td>66</td>\n",
       "    </tr>\n",
       "    <tr>\n",
       "      <th>64036</th>\n",
       "      <td>ВТБ подвел итоги первого корпоративного акселе...</td>\n",
       "      <td>0</td>\n",
       "      <td>NaN</td>\n",
       "      <td>19</td>\n",
       "      <td>227</td>\n",
       "    </tr>\n",
       "    <tr>\n",
       "      <th>64037</th>\n",
       "      <td>ВТБ запустит бесплатное пополнение карт других...</td>\n",
       "      <td>0</td>\n",
       "      <td>NaN</td>\n",
       "      <td>6</td>\n",
       "      <td>100</td>\n",
       "    </tr>\n",
       "    <tr>\n",
       "      <th>64038</th>\n",
       "      <td>В Сызрани вновь пройдет \"Ярмарка вакансий\" для...</td>\n",
       "      <td>0</td>\n",
       "      <td>NaN</td>\n",
       "      <td>7</td>\n",
       "      <td>55</td>\n",
       "    </tr>\n",
       "  </tbody>\n",
       "</table>\n",
       "<p>64039 rows × 5 columns</p>\n",
       "</div>"
      ],
      "text/plain": [
       "                                                    text  label   age  \\\n",
       "0      Когда-то я был добрым романтиком, который стре...      1  32.0   \n",
       "1      Здраствуйте! Я каждый день просыпаюсь с мыслью...      1  28.0   \n",
       "2      У меня проблемы с девушкой. Каждую ссору я не ...      1  16.0   \n",
       "3      Вся моя жизнь это один сплошной ад, в котором ...      1  32.0   \n",
       "4      Я хочу уснуть и не проснуться.каждый день одно...      1  14.0   \n",
       "...                                                  ...    ...   ...   \n",
       "64034  Южная Корея будет внедрять свои технологии в К...      0   NaN   \n",
       "64035  В минувшие выходные в спортблоке КалмГУ прошли...      0   NaN   \n",
       "64036  ВТБ подвел итоги первого корпоративного акселе...      0   NaN   \n",
       "64037  ВТБ запустит бесплатное пополнение карт других...      0   NaN   \n",
       "64038  В Сызрани вновь пройдет \"Ярмарка вакансий\" для...      0   NaN   \n",
       "\n",
       "       sent_count  token_count  \n",
       "0              16          167  \n",
       "1               6           67  \n",
       "2              11           44  \n",
       "3               6           25  \n",
       "4              18          196  \n",
       "...           ...          ...  \n",
       "64034           1           21  \n",
       "64035          12           66  \n",
       "64036          19          227  \n",
       "64037           6          100  \n",
       "64038           7           55  \n",
       "\n",
       "[64039 rows x 5 columns]"
      ]
     },
     "execution_count": 14,
     "metadata": {},
     "output_type": "execute_result"
    }
   ],
   "source": [
    "# your code and output here\n",
    "token_count = []\n",
    "for text in df['text']:\n",
    "    num = len(tokenize(text))\n",
    "    token_count.append(num)\n",
    "df['token_count'] = token_count\n",
    "df"
   ]
  },
  {
   "cell_type": "code",
   "execution_count": 15,
   "metadata": {},
   "outputs": [
    {
     "name": "stdout",
     "output_type": "stream",
     "text": [
      "Среднее по всей выборке: 108.10306219647403\n",
      "Среднее в группе 0: 144.53852159520315\n",
      "Среднее в группе 1: 71.66418889374727\n"
     ]
    }
   ],
   "source": [
    "label_0 = df[df['label'] == 0]\n",
    "label_1 = df[df['label'] == 1]\n",
    "\n",
    "all_mean = numpy.mean(df['token_count'])\n",
    "label_0_mean = numpy.mean(label_0['token_count'])\n",
    "label_1_mean = numpy.mean(label_1['token_count'])\n",
    "\n",
    "print('Среднее по всей выборке:', all_mean)\n",
    "print('Среднее в группе 0:', label_0_mean)\n",
    "print('Среднее в группе 1:', label_1_mean)"
   ]
  },
  {
   "cell_type": "markdown",
   "metadata": {
    "colab_type": "text",
    "id": "xXsyP9NHG-gO"
   },
   "source": [
    "4. Напишите функцию, которая переводит текст в последовательность лемм."
   ]
  },
  {
   "cell_type": "code",
   "execution_count": 16,
   "metadata": {
    "colab": {},
    "colab_type": "code",
    "id": "n1o_Rh2iHDmH"
   },
   "outputs": [],
   "source": [
    "# your code and output here\n",
    "import pymorphy2\n",
    "morph = pymorphy2.MorphAnalyzer()\n",
    "\n",
    "def lemmatize (text):\n",
    "    words = tokenize(text)\n",
    "    lemmas = []\n",
    "    for word in words:\n",
    "        lemma = morph.parse(word)[0].normal_form\n",
    "        lemmas.append(lemma)\n",
    "    return lemmas"
   ]
  },
  {
   "cell_type": "markdown",
   "metadata": {
    "colab_type": "text",
    "id": "D5kyEWTZ98r3"
   },
   "source": [
    "5. Напишите функцию, которая переводит текст в последовательность частеречных тегов."
   ]
  },
  {
   "cell_type": "code",
   "execution_count": 17,
   "metadata": {
    "colab": {},
    "colab_type": "code",
    "id": "83EABAwH756M"
   },
   "outputs": [],
   "source": [
    "# your code and output here\n",
    "def tagging (text):\n",
    "    words = tokenize(text)\n",
    "    tags = []\n",
    "    for word in words:\n",
    "        p = morph.parse(word)[0]\n",
    "        pos_tag = p.tag.POS\n",
    "        tags.append(pos_tag)\n",
    "    return tags"
   ]
  },
  {
   "cell_type": "markdown",
   "metadata": {
    "colab_type": "text",
    "id": "d7VAjC4VHSyi"
   },
   "source": [
    "6. Какие слова мы можем добавить в список стоп-слов? Приведите примеры и объясните, почему."
   ]
  },
  {
   "cell_type": "code",
   "execution_count": 18,
   "metadata": {
    "colab": {},
    "colab_type": "code",
    "id": "bElLevUU-x7m"
   },
   "outputs": [],
   "source": [
    "# your code and output here"
   ]
  },
  {
   "cell_type": "markdown",
   "metadata": {
    "colab_type": "text",
    "id": "vcLlYOZfIWRX"
   },
   "source": [
    "### Часть 3: Визуализация (1 балл)"
   ]
  },
  {
   "cell_type": "markdown",
   "metadata": {
    "colab_type": "text",
    "id": "b9s_mHYIoOjg"
   },
   "source": [
    "1. Визуализируйте распределение количество предложений / текст."
   ]
  },
  {
   "cell_type": "code",
   "execution_count": 19,
   "metadata": {
    "colab": {},
    "colab_type": "code",
    "id": "CUgLhfWoIvKa"
   },
   "outputs": [],
   "source": [
    "# your code and output here"
   ]
  },
  {
   "cell_type": "markdown",
   "metadata": {
    "colab_type": "text",
    "id": "PzPsrj36KJ7n"
   },
   "source": [
    "2. Визуализируйте распределение количество-предложений / текст внутри каждого класса."
   ]
  },
  {
   "cell_type": "code",
   "execution_count": 20,
   "metadata": {
    "colab": {},
    "colab_type": "code",
    "id": "z7R5719eV2Me"
   },
   "outputs": [],
   "source": [
    "# your code and output here"
   ]
  },
  {
   "cell_type": "markdown",
   "metadata": {
    "colab_type": "text",
    "id": "5zGMiWUBQKRi"
   },
   "source": [
    "3. Верно ли, что количество предложений в тексте коррелирует с возрастом автора в подвыборке от 16 до 32 лет включительно? Если да, какая это корреляция – положительная или отрицательная? Визуализируйте матрицу корреляции."
   ]
  },
  {
   "cell_type": "code",
   "execution_count": 21,
   "metadata": {
    "colab": {},
    "colab_type": "code",
    "id": "qAeNmcoqQi5x"
   },
   "outputs": [],
   "source": [
    "# your code and output here"
   ]
  },
  {
   "cell_type": "markdown",
   "metadata": {
    "colab_type": "text",
    "id": "nBpo_1O5Ld7H"
   },
   "source": [
    "### Часть 4: Извлечение текстовых признаков (4 балла)"
   ]
  },
  {
   "cell_type": "markdown",
   "metadata": {
    "colab_type": "text",
    "id": "oqZUzenfL2sF"
   },
   "source": [
    "1. Самостоятельно реализуйте функцию для получения посимвольных н-грамм (без использования библиотек)."
   ]
  },
  {
   "cell_type": "code",
   "execution_count": 22,
   "metadata": {
    "colab": {},
    "colab_type": "code",
    "id": "UOOp61e1MCU-"
   },
   "outputs": [],
   "source": [
    "# your code and output here\n",
    "def char_ngrams(text, n):\n",
    "    ngrams = []\n",
    "    for i in range(0, len(text)-n+1):\n",
    "        ngram = text[i:i+n]\n",
    "        ngrams.append(ngram)\n",
    "    return ngrams"
   ]
  },
  {
   "cell_type": "code",
   "execution_count": 23,
   "metadata": {
    "colab": {
     "base_uri": "https://localhost:8080/",
     "height": 34
    },
    "colab_type": "code",
    "id": "LctAR2cEMV0s",
    "outputId": "583c32a5-4efd-4686-97e9-b266350c0af5"
   },
   "outputs": [
    {
     "data": {
      "text/plain": [
       "['уст', 'ста', 'тав', 'авш', 'вша', 'шая', 'ая ', 'я м', ' ма', 'мам']"
      ]
     },
     "execution_count": 23,
     "metadata": {},
     "output_type": "execute_result"
    }
   ],
   "source": [
    "# пример работы функции\n",
    "\n",
    "text = \"уставшая мама мыла грязную раму\"\n",
    "\n",
    "char_ngrams(text, n=3)[:10]"
   ]
  },
  {
   "cell_type": "markdown",
   "metadata": {
    "colab_type": "text",
    "id": "CnPgflCeNsZA"
   },
   "source": [
    "2. Самостоятельно реализуйте функцию для получения пословных н-грамм (без использования библиотек)."
   ]
  },
  {
   "cell_type": "code",
   "execution_count": 24,
   "metadata": {
    "colab": {},
    "colab_type": "code",
    "id": "fX_6RyMFOGL2"
   },
   "outputs": [],
   "source": [
    "# your code and output here\n",
    "def word_ngrams(text, n):\n",
    "    ngrams = []\n",
    "    new_text = tokenize(text)\n",
    "    for i in range(0, len(new_text)-n+1):\n",
    "        ngram = new_text[i:i+n]\n",
    "        ngrams.append(ngram)\n",
    "    return ngrams"
   ]
  },
  {
   "cell_type": "code",
   "execution_count": 25,
   "metadata": {
    "colab": {
     "base_uri": "https://localhost:8080/",
     "height": 70
    },
    "colab_type": "code",
    "id": "7b-XHdadOVm5",
    "outputId": "ff2948c6-a5f4-4288-d018-f14b8a8b7666"
   },
   "outputs": [
    {
     "data": {
      "text/plain": [
       "[['уставшая', 'мама', 'мыла'],\n",
       " ['мама', 'мыла', 'грязную'],\n",
       " ['мыла', 'грязную', 'раму']]"
      ]
     },
     "execution_count": 25,
     "metadata": {},
     "output_type": "execute_result"
    }
   ],
   "source": [
    "# пример работы функции\n",
    "\n",
    "word_ngrams(text, n=3)"
   ]
  },
  {
   "cell_type": "code",
   "execution_count": 26,
   "metadata": {
    "colab": {
     "base_uri": "https://localhost:8080/",
     "height": 34
    },
    "colab_type": "code",
    "id": "anLUGeXROekT",
    "outputId": "ed3a30af-d19e-48c5-abe6-4605ef6dcca6"
   },
   "outputs": [
    {
     "data": {
      "text/plain": [
       "[['уставшая', 'мама', 'мыла', 'грязную'], ['мама', 'мыла', 'грязную', 'раму']]"
      ]
     },
     "execution_count": 26,
     "metadata": {},
     "output_type": "execute_result"
    }
   ],
   "source": [
    "word_ngrams(text, n=4)"
   ]
  },
  {
   "cell_type": "markdown",
   "metadata": {
    "colab_type": "text",
    "id": "zU4PJTZVOvcQ"
   },
   "source": [
    "3. Самостоятельно реализуйте функцию для получения н-грамм лемм (без использования библиотек)."
   ]
  },
  {
   "cell_type": "code",
   "execution_count": 27,
   "metadata": {
    "colab": {},
    "colab_type": "code",
    "id": "dgWG3NdLO0JF"
   },
   "outputs": [],
   "source": [
    "# your code and output here\n",
    "def lemma_ngrams(text, n):\n",
    "    ngrams = []\n",
    "    new_text = lemmatize(text)\n",
    "    for i in range(0, len(new_text)-n+1):\n",
    "        ngram = new_text[i:i+n]\n",
    "        ngrams.append(ngram)\n",
    "    return ngrams"
   ]
  },
  {
   "cell_type": "code",
   "execution_count": 28,
   "metadata": {
    "colab": {
     "base_uri": "https://localhost:8080/",
     "height": 70
    },
    "colab_type": "code",
    "id": "BfER14VDO8I3",
    "outputId": "97d6a053-3376-47e2-9489-ca9fd612140b"
   },
   "outputs": [
    {
     "data": {
      "text/plain": [
       "[['устать', 'мама', 'мыло'],\n",
       " ['мама', 'мыло', 'грязный'],\n",
       " ['мыло', 'грязный', 'рам']]"
      ]
     },
     "execution_count": 28,
     "metadata": {},
     "output_type": "execute_result"
    }
   ],
   "source": [
    "# пример работы функции\n",
    "\n",
    "lemma_ngrams(text, n=3)"
   ]
  },
  {
   "cell_type": "code",
   "execution_count": 29,
   "metadata": {
    "colab": {
     "base_uri": "https://localhost:8080/",
     "height": 52
    },
    "colab_type": "code",
    "id": "k1XmkQ_rO_p1",
    "outputId": "99a26cb6-ca99-427c-ddc4-c901e3f184a1"
   },
   "outputs": [
    {
     "data": {
      "text/plain": [
       "[['устать', 'мама', 'мыло', 'грязный'], ['мама', 'мыло', 'грязный', 'рам']]"
      ]
     },
     "execution_count": 29,
     "metadata": {},
     "output_type": "execute_result"
    }
   ],
   "source": [
    "lemma_ngrams(text, n=4)"
   ]
  },
  {
   "cell_type": "markdown",
   "metadata": {
    "colab_type": "text",
    "id": "LHUo6LdLOblj"
   },
   "source": [
    "4. Самостоятельно реализуйте функцию для получения н-грамм частеречных тегов (без использования библиотек)."
   ]
  },
  {
   "cell_type": "code",
   "execution_count": 30,
   "metadata": {
    "colab": {},
    "colab_type": "code",
    "id": "YlPDRUCcOoCX"
   },
   "outputs": [],
   "source": [
    "# your code and output here\n",
    "def pos_ngrams(text, n):\n",
    "    ngrams = []\n",
    "    new_text = tagging(text)\n",
    "    for i in range(0, len(new_text)-n+1):\n",
    "        ngram = new_text[i:i+n]\n",
    "        ngrams.append(ngram)\n",
    "    return ngrams"
   ]
  },
  {
   "cell_type": "code",
   "execution_count": 31,
   "metadata": {
    "colab": {
     "base_uri": "https://localhost:8080/",
     "height": 34
    },
    "colab_type": "code",
    "id": "a4kQmEqiPHPv",
    "outputId": "ede469bd-8410-4c03-f361-42887601fc9f"
   },
   "outputs": [
    {
     "data": {
      "text/plain": [
       "[['PRTF', 'NOUN', 'NOUN'], ['NOUN', 'NOUN', 'ADJF'], ['NOUN', 'ADJF', 'NOUN']]"
      ]
     },
     "execution_count": 31,
     "metadata": {},
     "output_type": "execute_result"
    }
   ],
   "source": [
    "# пример работы функции\n",
    "\n",
    "pos_ngrams(text, n=3)"
   ]
  },
  {
   "cell_type": "code",
   "execution_count": 32,
   "metadata": {
    "colab": {
     "base_uri": "https://localhost:8080/",
     "height": 34
    },
    "colab_type": "code",
    "id": "iBh5fRbOPKsn",
    "outputId": "e4fdb66d-2f6e-4558-9072-7536adea29b2"
   },
   "outputs": [
    {
     "data": {
      "text/plain": [
       "[['PRTF', 'NOUN', 'NOUN', 'ADJF'], ['NOUN', 'NOUN', 'ADJF', 'NOUN']]"
      ]
     },
     "execution_count": 32,
     "metadata": {},
     "output_type": "execute_result"
    }
   ],
   "source": [
    "pos_ngrams(text, n=4)"
   ]
  },
  {
   "cell_type": "markdown",
   "metadata": {
    "colab_type": "text",
    "id": "ZnUBQ6hLPNb3"
   },
   "source": [
    "5. Самостоятельно реализуйте функцию для получения частотного словаря частеречных тегов по коллекции документов."
   ]
  },
  {
   "cell_type": "code",
   "execution_count": 33,
   "metadata": {
    "colab": {},
    "colab_type": "code",
    "id": "P69DZahVPctr"
   },
   "outputs": [],
   "source": [
    "# your code and output here\n",
    "def build_pos_dict(corpus):\n",
    "    pos_dict = {}\n",
    "    for text in corpus:\n",
    "        new_text = tagging(text)\n",
    "        for pos in new_text:\n",
    "            if pos in pos_dict:\n",
    "                pos_dict[pos] += 1\n",
    "            else:\n",
    "                pos_dict[pos] = 1\n",
    "    return pos_dict"
   ]
  },
  {
   "cell_type": "code",
   "execution_count": 34,
   "metadata": {
    "colab": {
     "base_uri": "https://localhost:8080/",
     "height": 34
    },
    "colab_type": "code",
    "id": "7ZLFo264Pa4b",
    "outputId": "e43a31d5-f4ec-4468-8ad2-c892cfa4c662"
   },
   "outputs": [
    {
     "data": {
      "text/plain": [
       "{'NOUN': 7, 'PRTF': 1, 'ADJF': 2, 'VERB': 1}"
      ]
     },
     "execution_count": 34,
     "metadata": {},
     "output_type": "execute_result"
    }
   ],
   "source": [
    "# пример работы функции\n",
    "\n",
    "corpus = [\n",
    "    \"мама мыла уставшую раму\",\n",
    "    \"высшая школа экономики\",\n",
    "    \"компьютерная лингвистика\",\n",
    "    \"осень наступила\"\n",
    "]\n",
    "\n",
    "build_pos_dict(corpus)"
   ]
  },
  {
   "cell_type": "markdown",
   "metadata": {
    "colab_type": "text",
    "id": "yb_mcJ8sSr3-"
   },
   "source": [
    "6. Постройте частотный словарь лемм по текстам внутри каждого класса. Найдите топ-15 лемм для текстов каждого класса. Есть ли между этими списками пересечение? Если да, сколько лемм пересекается?"
   ]
  },
  {
   "cell_type": "code",
   "execution_count": 35,
   "metadata": {
    "colab": {},
    "colab_type": "code",
    "id": "nP6_MZbHTLtf"
   },
   "outputs": [],
   "source": [
    "# your code and output here\n",
    "label_0 = df[df['label'] == 0]\n",
    "label_1 = df[df['label'] == 1]\n",
    "\n",
    "def first_n(dic, n):\n",
    "    new_dic = {}\n",
    "    for i in dic:\n",
    "        new_dic[dic[i]] = i\n",
    "    list_keys = list(new_dic.keys())\n",
    "    list_keys.sort(reverse = True)\n",
    "    out_dic = {}\n",
    "    for i in list_keys[:n]:\n",
    "        out_dic[new_dic[i]] = i\n",
    "    return out_dic"
   ]
  },
  {
   "cell_type": "code",
   "execution_count": 36,
   "metadata": {},
   "outputs": [],
   "source": [
    "def build_lem_dict(corpus):\n",
    "    lem_dict = {}\n",
    "    for text in corpus:\n",
    "        new_text = lemmatize(text)\n",
    "        for lemm in new_text:\n",
    "            if lemm in lem_dict:\n",
    "                lem_dict[lemm] += 1\n",
    "            else:\n",
    "                lem_dict[lemm] = 1\n",
    "    return lem_dict"
   ]
  },
  {
   "cell_type": "code",
   "execution_count": 37,
   "metadata": {},
   "outputs": [],
   "source": [
    "lem_dict_0 = build_lem_dict(label_0['text'])"
   ]
  },
  {
   "cell_type": "code",
   "execution_count": 39,
   "metadata": {},
   "outputs": [
    {
     "data": {
      "text/plain": [
       "{'-': 46206,\n",
       " 'год': 42421,\n",
       " '–': 31924,\n",
       " 'который': 25743,\n",
       " '—': 20064,\n",
       " 'один': 16770,\n",
       " 'это': 16717,\n",
       " 'наш': 15441,\n",
       " 'свой': 15332,\n",
       " 'проект': 14077,\n",
       " 'также': 13346,\n",
       " 'работа': 12154,\n",
       " 'апрель': 12130,\n",
       " 'день': 12060,\n",
       " 'город': 11587}"
      ]
     },
     "execution_count": 39,
     "metadata": {},
     "output_type": "execute_result"
    }
   ],
   "source": [
    "first_15_0 = first_n(lem_dict_0, 15)\n",
    "first_15_0"
   ]
  },
  {
   "cell_type": "code",
   "execution_count": 42,
   "metadata": {},
   "outputs": [],
   "source": [
    "lem_dict_1 = build_lem_dict(label_1['text'])"
   ]
  },
  {
   "cell_type": "code",
   "execution_count": 43,
   "metadata": {},
   "outputs": [
    {
     "data": {
      "text/plain": [
       "{'это': 31882,\n",
       " 'хотеть': 21176,\n",
       " 'год': 20505,\n",
       " 'жить': 19101,\n",
       " 'мочь': 18524,\n",
       " 'очень': 17426,\n",
       " 'жизнь': 17254,\n",
       " 'мой': 16873,\n",
       " 'весь': 16427,\n",
       " 'просто': 15025,\n",
       " 'свой': 14199,\n",
       " 'который': 13349,\n",
       " '-': 12304,\n",
       " 'человек': 11626,\n",
       " 'один': 10117}"
      ]
     },
     "execution_count": 43,
     "metadata": {},
     "output_type": "execute_result"
    }
   ],
   "source": [
    "first_15_1 = first_n(lem_dict_1, 15)\n",
    "first_15_1"
   ]
  },
  {
   "cell_type": "markdown",
   "metadata": {
    "colab_type": "text",
    "id": "AqfZJ4csRSxZ"
   },
   "source": [
    "7. Какие текстовые признаки могли бы быть полезными для решения задачи классификации на этих данных? Приведите примеры и перечислите ресурсы, которые вы бы использовали для конструирования этих признаков."
   ]
  },
  {
   "cell_type": "code",
   "execution_count": null,
   "metadata": {
    "colab": {},
    "colab_type": "code",
    "id": "4T5Rdx1HRjWX"
   },
   "outputs": [],
   "source": [
    "# your answer text here"
   ]
  }
 ],
 "metadata": {
  "colab": {
   "collapsed_sections": [],
   "name": "hw_01.ipynb",
   "provenance": []
  },
  "kernelspec": {
   "display_name": "Python 3",
   "language": "python",
   "name": "python3"
  },
  "language_info": {
   "codemirror_mode": {
    "name": "ipython",
    "version": 3
   },
   "file_extension": ".py",
   "mimetype": "text/x-python",
   "name": "python",
   "nbconvert_exporter": "python",
   "pygments_lexer": "ipython3",
   "version": "3.8.5"
  }
 },
 "nbformat": 4,
 "nbformat_minor": 1
}
