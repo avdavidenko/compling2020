{
 "cells": [
  {
   "cell_type": "markdown",
   "metadata": {},
   "source": [
    "## Препроцессинг"
   ]
  },
  {
   "cell_type": "code",
   "execution_count": 12,
   "metadata": {},
   "outputs": [],
   "source": [
    "import pandas as pd\n",
    "\n",
    "neg = pd.read_csv('data/negative.csv', sep=';', header=None)\n",
    "pos = pd.read_csv('data/positive.csv', sep=';', header=None)"
   ]
  },
  {
   "cell_type": "code",
   "execution_count": 13,
   "metadata": {},
   "outputs": [],
   "source": [
    "import numpy as np\n",
    "\n",
    "sample_size = min(pos.shape[0], neg.shape[0])\n",
    "raw_data = np.concatenate((pos[3].values[:sample_size],\n",
    "                           neg[3].values[:sample_size]), axis=0)\n",
    "labels = [1] * sample_size + [0] * sample_size"
   ]
  },
  {
   "cell_type": "code",
   "execution_count": 14,
   "metadata": {},
   "outputs": [],
   "source": [
    "import re\n",
    "\n",
    "def preprocess_text(text): \n",
    "    text = text.lower().replace(\"ё\", \"е\")\n",
    "    text = re.sub('((www\\.[^\\s]+)|(https?://[^\\s]+))', 'URL', text)\n",
    "    text = re.sub('@[^\\s]+', 'USER', text)\n",
    "    # штуки с URL и USER показались мне здравыми, поэтому я взяла их из какой-то статьи на хабре\n",
    "    text = re.sub(':d*', ' ', text)\n",
    "    # не знаю, стоило ли удалять смайлики, учитывая анализ тональности, но без знаков препинания лишние d сильно мешаются\n",
    "    text = re.sub('&lt;[0-9]*', ' ', text)\n",
    "    text = re.sub('[^a-zA-Zа-яА-Я1-9#]+', ' ', text)\n",
    "    text = re.sub(' +', ' ', text)\n",
    "    return text.strip().split()\n",
    "\n",
    "\n",
    "data = [preprocess_text(t) for t in raw_data]"
   ]
  },
  {
   "cell_type": "code",
   "execution_count": 15,
   "metadata": {},
   "outputs": [],
   "source": [
    "from sklearn.model_selection import train_test_split\n",
    "\n",
    "data_train, data_test, labels_train, labels_test = train_test_split(data, labels, test_size=0.2, random_state=1)"
   ]
  },
  {
   "cell_type": "markdown",
   "metadata": {},
   "source": [
    "## Создание словарей"
   ]
  },
  {
   "cell_type": "code",
   "execution_count": 16,
   "metadata": {},
   "outputs": [],
   "source": [
    "from collections import Counter\n",
    "\n",
    "vocab = Counter()\n",
    "for d in data_train:\n",
    "    d = [word.lower() for word in d]\n",
    "    vocab.update(d)"
   ]
  },
  {
   "cell_type": "code",
   "execution_count": 17,
   "metadata": {},
   "outputs": [],
   "source": [
    "filtered_vocab = {word for word in vocab if vocab[word] > 5}"
   ]
  },
  {
   "cell_type": "code",
   "execution_count": 18,
   "metadata": {},
   "outputs": [
    {
     "data": {
      "text/plain": [
       "23532"
      ]
     },
     "execution_count": 18,
     "metadata": {},
     "output_type": "execute_result"
    }
   ],
   "source": [
    "len(filtered_vocab)"
   ]
  },
  {
   "cell_type": "code",
   "execution_count": 19,
   "metadata": {},
   "outputs": [],
   "source": [
    "word2id = {word:i + 2 for i,word in enumerate(filtered_vocab)}\n",
    "word2id['pad'] = 0\n",
    "word2id['unk'] = 1 \n",
    "\n",
    "id2word = {i:word for word, i in word2id.items()}"
   ]
  },
  {
   "cell_type": "code",
   "execution_count": 20,
   "metadata": {},
   "outputs": [
    {
     "data": {
      "text/plain": [
       "23534"
      ]
     },
     "execution_count": 20,
     "metadata": {},
     "output_type": "execute_result"
    }
   ],
   "source": [
    "len(id2word)"
   ]
  },
  {
   "cell_type": "code",
   "execution_count": 21,
   "metadata": {},
   "outputs": [],
   "source": [
    "label2id = {'pad':0, 'unk':1} \n",
    "\n",
    "for label in labels_train:\n",
    "    if label not in label2id:\n",
    "        label2id[label] = len(label2id)\n",
    "\n",
    "id2label = {i:label for label, i in label2id.items()}"
   ]
  },
  {
   "cell_type": "code",
   "execution_count": 22,
   "metadata": {},
   "outputs": [
    {
     "data": {
      "text/plain": [
       "{0: 'pad', 1: 'unk', 2: 1, 3: 0}"
      ]
     },
     "execution_count": 22,
     "metadata": {},
     "output_type": "execute_result"
    }
   ],
   "source": [
    "id2label"
   ]
  },
  {
   "cell_type": "code",
   "execution_count": 23,
   "metadata": {},
   "outputs": [
    {
     "name": "stdout",
     "output_type": "stream",
     "text": [
      "{'f', 'o', 'т', 'u', 'х', 'b', 'ж', 'э', 'г', 'б', 's', 'р', 'v', 'и', 'j', 'я', 'ф', '3', 'r', 'е', 'z', 'а', 'ь', 'a', 'q', 'з', 'й', 'ъ', '9', 'd', 'y', '1', 't', 'м', 'i', 'ц', 'm', 'g', 'н', 'n', 'e', '5', '6', '8', '7', 'k', 'д', 'x', 'ю', 'l', 'с', 'c', 'щ', 'p', 'h', '4', 'в', 'у', '2', 'л', 'к', 'ш', 'w', '#', 'ы', 'о', 'п', 'ч'}\n"
     ]
    }
   ],
   "source": [
    "chars = set([letter for word in filtered_vocab for letter in word])\n",
    "n_chars = len(chars)\n",
    "print(chars)"
   ]
  },
  {
   "cell_type": "code",
   "execution_count": 24,
   "metadata": {},
   "outputs": [],
   "source": [
    "char2id = {c: i + 2 for i, c in enumerate(chars)}\n",
    "char2id[\"pad\"] = 0\n",
    "char2id[\"unk\"] = 1\n",
    "\n",
    "id2char = {i:char for char, i in char2id.items()}"
   ]
  },
  {
   "cell_type": "code",
   "execution_count": 25,
   "metadata": {},
   "outputs": [
    {
     "name": "stdout",
     "output_type": "stream",
     "text": [
      "максимальная длина слова: 34\n"
     ]
    }
   ],
   "source": [
    "char_max_len = max(len(x) for x in filtered_vocab)\n",
    "print(\"максимальная длина слова:\", char_max_len)"
   ]
  },
  {
   "cell_type": "code",
   "execution_count": 26,
   "metadata": {},
   "outputs": [],
   "source": [
    "def data2ints(data, smth2id):\n",
    "    int_data = []\n",
    "    for seq in data:\n",
    "        int_seq = []\n",
    "        for i in seq:\n",
    "            int_seq.append(smth2id.get(i.lower(), 1))\n",
    "  \n",
    "        int_data.append(int_seq)\n",
    "    return int_data"
   ]
  },
  {
   "cell_type": "code",
   "execution_count": 27,
   "metadata": {},
   "outputs": [
    {
     "name": "stdout",
     "output_type": "stream",
     "text": [
      "[1, 17762, 5102, 6897, 6370, 17656, 11409, 22667, 20591, 516, 1, 15417, 4659]\n",
      "[0. 1.]\n",
      "[11613, 19020, 12659, 5659, 10027, 195, 17656, 12181, 1, 15829, 16809]\n",
      "[0. 1.]\n"
     ]
    }
   ],
   "source": [
    "from keras.utils import to_categorical\n",
    "\n",
    "X_train_ids, X_test_ids = data2ints(data_train, word2id), data2ints(data_test, word2id)\n",
    "y_train_ids, y_test_ids = to_categorical(labels_train, num_classes=2), to_categorical(labels_test, num_classes=2)\n",
    "\n",
    "\n",
    "print(X_train_ids[0])\n",
    "print(y_train_ids[0])\n",
    "\n",
    "print(X_test_ids[0])\n",
    "print(y_test_ids[0])"
   ]
  },
  {
   "cell_type": "code",
   "execution_count": 28,
   "metadata": {},
   "outputs": [
    {
     "name": "stdout",
     "output_type": "stream",
     "text": [
      "максимальная длина предложения: 34\n"
     ]
    }
   ],
   "source": [
    "sent_max_len = max(len(x) for x in X_train_ids)\n",
    "print(\"максимальная длина предложения:\", sent_max_len)"
   ]
  },
  {
   "cell_type": "code",
   "execution_count": 29,
   "metadata": {},
   "outputs": [],
   "source": [
    "from tensorflow.keras.preprocessing.sequence import pad_sequences\n",
    "\n",
    "X_train, X_test = pad_sequences(X_train_ids, maxlen=sent_max_len, padding='post'), pad_sequences(X_test_ids, maxlen=sent_max_len, padding='post')\n",
    "y_train, y_test = pad_sequences(y_train_ids, maxlen=sent_max_len, padding='post'), pad_sequences(y_test_ids, maxlen=sent_max_len, padding='post')"
   ]
  },
  {
   "cell_type": "code",
   "execution_count": 30,
   "metadata": {},
   "outputs": [
    {
     "name": "stdout",
     "output_type": "stream",
     "text": [
      "(179076, 34) (179076, 34) (44770, 34) (44770, 34)\n"
     ]
    }
   ],
   "source": [
    "print(X_train.shape, y_train.shape, X_test.shape, y_test.shape)"
   ]
  },
  {
   "cell_type": "code",
   "execution_count": 31,
   "metadata": {},
   "outputs": [],
   "source": [
    "def make_X_char(sentences):\n",
    "    X_char = []\n",
    "    for sentence in sentences:\n",
    "        sent_seq = []\n",
    "        for i in range(sent_max_len):\n",
    "            word_seq = []\n",
    "            for j in range(char_max_len):\n",
    "                try:\n",
    "                    word_seq.append(char2id[sentence[i][j].lower()])\n",
    "                except:\n",
    "                    word_seq.append(char2id[\"pad\"])\n",
    "            sent_seq.append(word_seq)\n",
    "        X_char.append(np.array(sent_seq))\n",
    "    return np.array(X_char)"
   ]
  },
  {
   "cell_type": "code",
   "execution_count": 32,
   "metadata": {},
   "outputs": [],
   "source": [
    "X_char_train, X_char_test = make_X_char(data_train), make_X_char(data_test)"
   ]
  },
  {
   "cell_type": "code",
   "execution_count": 33,
   "metadata": {},
   "outputs": [
    {
     "data": {
      "text/plain": [
       "(179076, 34, 34)"
      ]
     },
     "execution_count": 33,
     "metadata": {},
     "output_type": "execute_result"
    }
   ],
   "source": [
    "X_char_train.shape"
   ]
  },
  {
   "cell_type": "code",
   "execution_count": 34,
   "metadata": {},
   "outputs": [
    {
     "data": {
      "text/plain": [
       "'обсудили'"
      ]
     },
     "execution_count": 34,
     "metadata": {},
     "output_type": "execute_result"
    }
   ],
   "source": [
    "data_train[5][0]"
   ]
  },
  {
   "cell_type": "code",
   "execution_count": 35,
   "metadata": {},
   "outputs": [
    {
     "data": {
      "text/plain": [
       "array([67, 11, 52, 59, 48, 15, 61, 15,  0,  0,  0,  0,  0,  0,  0,  0,  0,\n",
       "        0,  0,  0,  0,  0,  0,  0,  0,  0,  0,  0,  0,  0,  0,  0,  0,  0])"
      ]
     },
     "execution_count": 35,
     "metadata": {},
     "output_type": "execute_result"
    }
   ],
   "source": [
    "X_char_train[5][0]"
   ]
  },
  {
   "cell_type": "code",
   "execution_count": 36,
   "metadata": {},
   "outputs": [
    {
     "data": {
      "text/plain": [
       "['о',\n",
       " 'б',\n",
       " 'с',\n",
       " 'у',\n",
       " 'д',\n",
       " 'и',\n",
       " 'л',\n",
       " 'и',\n",
       " 'pad',\n",
       " 'pad',\n",
       " 'pad',\n",
       " 'pad',\n",
       " 'pad',\n",
       " 'pad',\n",
       " 'pad',\n",
       " 'pad',\n",
       " 'pad',\n",
       " 'pad',\n",
       " 'pad',\n",
       " 'pad',\n",
       " 'pad',\n",
       " 'pad',\n",
       " 'pad',\n",
       " 'pad',\n",
       " 'pad',\n",
       " 'pad',\n",
       " 'pad',\n",
       " 'pad',\n",
       " 'pad',\n",
       " 'pad',\n",
       " 'pad',\n",
       " 'pad',\n",
       " 'pad',\n",
       " 'pad']"
      ]
     },
     "execution_count": 36,
     "metadata": {},
     "output_type": "execute_result"
    }
   ],
   "source": [
    "[id2char[i] for i in X_char_train[5][0]]"
   ]
  },
  {
   "cell_type": "code",
   "execution_count": 37,
   "metadata": {},
   "outputs": [
    {
     "data": {
      "text/plain": [
       "array([ 4533,  1960, 20375,  7477,  5504, 14905,  2168, 11399, 15782,\n",
       "       19768, 11303, 17396, 14269,   496,  7477,     1,     0,     0,\n",
       "           0,     0,     0,     0,     0,     0,     0,     0,     0,\n",
       "           0,     0,     0,     0,     0,     0,     0])"
      ]
     },
     "execution_count": 37,
     "metadata": {},
     "output_type": "execute_result"
    }
   ],
   "source": [
    "X_train[5]"
   ]
  },
  {
   "cell_type": "code",
   "execution_count": 38,
   "metadata": {},
   "outputs": [
    {
     "data": {
      "text/plain": [
       "['обсудили',\n",
       " 'на',\n",
       " 'уроке',\n",
       " 'все',\n",
       " 'что',\n",
       " 'касается',\n",
       " 'лета',\n",
       " 'думаю',\n",
       " 'будет',\n",
       " 'круто',\n",
       " 'так',\n",
       " 'как',\n",
       " 'мы',\n",
       " 'уже',\n",
       " 'все',\n",
       " 'unk',\n",
       " 'pad',\n",
       " 'pad',\n",
       " 'pad',\n",
       " 'pad',\n",
       " 'pad',\n",
       " 'pad',\n",
       " 'pad',\n",
       " 'pad',\n",
       " 'pad',\n",
       " 'pad',\n",
       " 'pad',\n",
       " 'pad',\n",
       " 'pad',\n",
       " 'pad',\n",
       " 'pad',\n",
       " 'pad',\n",
       " 'pad',\n",
       " 'pad']"
      ]
     },
     "execution_count": 38,
     "metadata": {},
     "output_type": "execute_result"
    }
   ],
   "source": [
    "[id2word[i] for i in X_train[5]][:50]"
   ]
  },
  {
   "cell_type": "code",
   "execution_count": 39,
   "metadata": {},
   "outputs": [],
   "source": [
    "y_train, y_test = to_categorical(y_train, num_classes=len(tag2id)), to_categorical(y_test, num_classes=len(tag2id))"
   ]
  },
  {
   "cell_type": "code",
   "execution_count": 40,
   "metadata": {},
   "outputs": [
    {
     "data": {
      "text/plain": [
       "(179076, 34, 2)"
      ]
     },
     "execution_count": 40,
     "metadata": {},
     "output_type": "execute_result"
    }
   ],
   "source": [
    "y_train.shape"
   ]
  },
  {
   "cell_type": "markdown",
   "metadata": {},
   "source": [
    "## Первая модель"
   ]
  },
  {
   "cell_type": "code",
   "execution_count": 43,
   "metadata": {},
   "outputs": [],
   "source": [
    "import tensorflow as tf\n",
    "from tensorflow.keras.models import Sequential, Model\n",
    "from tensorflow.keras.layers import Dense, Activation, Dropout, LSTM, Bidirectional, TimeDistributed, InputLayer\n",
    "from tensorflow.keras.layers import Embedding, Conv1D, Input, concatenate, SpatialDropout1D, Flatten\n",
    "from tensorflow.keras import optimizers"
   ]
  },
  {
   "cell_type": "code",
   "execution_count": 44,
   "metadata": {},
   "outputs": [],
   "source": [
    "word_in = Input(shape=(sent_max_len))\n",
    "emb_word = Embedding(input_dim=len(word2id), output_dim=20, mask_zero=True)(word_in)\n",
    "lstm = Bidirectional(LSTM(units=128, return_sequences=True,recurrent_dropout=0.2))(emb_word)\n",
    "out = TimeDistributed(Dense(len(tag2id), activation=\"softmax\"))(lstm)\n",
    "\n",
    "model = Model(inputs= word_in, outputs=out)\n",
    "\n",
    "optimizer = optimizers.Adam(learning_rate=0.001)\n",
    "model.compile(optimizer=optimizer, loss=\"categorical_crossentropy\", metrics = [tf.keras.metrics.Precision(), tf.keras.metrics.Recall(), tf.keras.metrics.Accuracy()])"
   ]
  },
  {
   "cell_type": "code",
   "execution_count": 45,
   "metadata": {},
   "outputs": [
    {
     "name": "stdout",
     "output_type": "stream",
     "text": [
      "Model: \"model_1\"\n",
      "_________________________________________________________________\n",
      "Layer (type)                 Output Shape              Param #   \n",
      "=================================================================\n",
      "input_2 (InputLayer)         [(None, 34)]              0         \n",
      "_________________________________________________________________\n",
      "embedding_1 (Embedding)      (None, 34, 20)            470680    \n",
      "_________________________________________________________________\n",
      "bidirectional_1 (Bidirection (None, 34, 256)           152576    \n",
      "_________________________________________________________________\n",
      "time_distributed_1 (TimeDist (None, 34, 2)             514       \n",
      "=================================================================\n",
      "Total params: 623,770\n",
      "Trainable params: 623,770\n",
      "Non-trainable params: 0\n",
      "_________________________________________________________________\n"
     ]
    }
   ],
   "source": [
    "model.summary()"
   ]
  },
  {
   "cell_type": "code",
   "execution_count": 46,
   "metadata": {},
   "outputs": [
    {
     "data": {
      "image/png": "[encoded data removed]",
      "text/plain": [
       "<IPython.core.display.Image object>"
      ]
     },
     "execution_count": 46,
     "metadata": {},
     "output_type": "execute_result"
    }
   ],
   "source": [
    "from keras.utils.vis_utils import plot_model\n",
    "plot_model(model, show_shapes=True, show_layer_names=False)"
   ]
  },
  {
   "cell_type": "code",
   "execution_count": 47,
   "metadata": {},
   "outputs": [
    {
     "name": "stdout",
     "output_type": "stream",
     "text": [
      "Epoch 1/30\n",
      "1400/1400 [==============================] - 287s 201ms/step - loss: 0.0538 - precision: 0.9201 - recall: 0.9201 - accuracy: 0.2199 - val_loss: 0.0387 - val_precision: 0.9364 - val_recall: 0.9364 - val_accuracy: 0.1390\n",
      "Epoch 2/30\n",
      "1400/1400 [==============================] - 292s 208ms/step - loss: 0.0374 - precision: 0.9417 - recall: 0.9417 - accuracy: 0.2177 - val_loss: 0.0369 - val_precision: 0.9418 - val_recall: 0.9418 - val_accuracy: 0.1246\n",
      "Epoch 3/30\n",
      "1400/1400 [==============================] - 293s 209ms/step - loss: 0.0340 - precision: 0.9487 - recall: 0.9487 - accuracy: 0.1956 - val_loss: 0.0368 - val_precision: 0.9422 - val_recall: 0.9422 - val_accuracy: 0.1881\n",
      "Epoch 4/30\n",
      "1400/1400 [==============================] - 287s 205ms/step - loss: 0.0310 - precision: 0.9553 - recall: 0.9553 - accuracy: 0.1991 - val_loss: 0.0379 - val_precision: 0.9415 - val_recall: 0.9415 - val_accuracy: 0.1317\n",
      "Epoch 5/30\n",
      "1400/1400 [==============================] - 321s 229ms/step - loss: 0.0285 - precision: 0.9605 - recall: 0.9605 - accuracy: 0.1865 - val_loss: 0.0390 - val_precision: 0.9421 - val_recall: 0.9421 - val_accuracy: 0.2030\n",
      "Epoch 6/30\n",
      "1400/1400 [==============================] - 292s 209ms/step - loss: 0.0261 - precision: 0.9648 - recall: 0.9648 - accuracy: 0.2341 - val_loss: 0.0413 - val_precision: 0.9414 - val_recall: 0.9414 - val_accuracy: 0.2746\n",
      "Epoch 7/30\n",
      "1400/1400 [==============================] - 294s 210ms/step - loss: 0.0239 - precision: 0.9686 - recall: 0.9686 - accuracy: 0.2906 - val_loss: 0.0443 - val_precision: 0.9408 - val_recall: 0.9408 - val_accuracy: 0.3376\n",
      "Epoch 8/30\n",
      "1400/1400 [==============================] - 304s 217ms/step - loss: 0.0217 - precision: 0.9719 - recall: 0.9719 - accuracy: 0.3316 - val_loss: 0.0470 - val_precision: 0.9403 - val_recall: 0.9403 - val_accuracy: 0.3487\n",
      "Epoch 9/30\n",
      "1400/1400 [==============================] - 295s 211ms/step - loss: 0.0203 - precision: 0.9740 - recall: 0.9740 - accuracy: 0.3567 - val_loss: 0.0529 - val_precision: 0.9392 - val_recall: 0.9392 - val_accuracy: 0.3697\n",
      "Epoch 10/30\n",
      "1400/1400 [==============================] - 289s 206ms/step - loss: 0.0184 - precision: 0.9767 - recall: 0.9767 - accuracy: 0.3715 - val_loss: 0.0555 - val_precision: 0.9396 - val_recall: 0.9396 - val_accuracy: 0.3777\n",
      "Epoch 11/30\n",
      "1400/1400 [==============================] - 278s 198ms/step - loss: 0.0171 - precision: 0.9785 - recall: 0.9785 - accuracy: 0.3843 - val_loss: 0.0619 - val_precision: 0.9393 - val_recall: 0.9393 - val_accuracy: 0.3860\n",
      "Epoch 12/30\n",
      "1400/1400 [==============================] - 289s 206ms/step - loss: 0.0158 - precision: 0.9804 - recall: 0.9804 - accuracy: 0.3929 - val_loss: 0.0647 - val_precision: 0.9393 - val_recall: 0.9393 - val_accuracy: 0.3959\n",
      "Epoch 13/30\n",
      "1400/1400 [==============================] - 303s 217ms/step - loss: 0.0148 - precision: 0.9817 - recall: 0.9817 - accuracy: 0.4000 - val_loss: 0.0700 - val_precision: 0.9388 - val_recall: 0.9388 - val_accuracy: 0.4035\n",
      "Epoch 14/30\n",
      "1400/1400 [==============================] - 283s 202ms/step - loss: 0.0136 - precision: 0.9833 - recall: 0.9833 - accuracy: 0.4056 - val_loss: 0.0761 - val_precision: 0.9378 - val_recall: 0.9378 - val_accuracy: 0.4046\n",
      "Epoch 15/30\n",
      "1400/1400 [==============================] - 283s 202ms/step - loss: 0.0129 - precision: 0.9841 - recall: 0.9841 - accuracy: 0.4080 - val_loss: 0.0795 - val_precision: 0.9382 - val_recall: 0.9382 - val_accuracy: 0.4080\n",
      "Epoch 16/30\n",
      "1400/1400 [==============================] - 281s 201ms/step - loss: 0.0121 - precision: 0.9853 - recall: 0.9853 - accuracy: 0.4099 - val_loss: 0.0837 - val_precision: 0.9381 - val_recall: 0.9381 - val_accuracy: 0.4109\n",
      "Epoch 17/30\n",
      "1400/1400 [==============================] - 283s 202ms/step - loss: 0.0116 - precision: 0.9859 - recall: 0.9859 - accuracy: 0.4124 - val_loss: 0.0878 - val_precision: 0.9385 - val_recall: 0.9385 - val_accuracy: 0.4146\n",
      "Epoch 18/30\n",
      "1400/1400 [==============================] - 284s 203ms/step - loss: 0.0107 - precision: 0.9871 - recall: 0.9871 - accuracy: 0.4137 - val_loss: 0.0902 - val_precision: 0.9382 - val_recall: 0.9382 - val_accuracy: 0.4145\n",
      "Epoch 19/30\n",
      "1400/1400 [==============================] - 285s 204ms/step - loss: 0.0102 - precision: 0.9876 - recall: 0.9876 - accuracy: 0.4149 - val_loss: 0.0962 - val_precision: 0.9380 - val_recall: 0.9380 - val_accuracy: 0.4148\n",
      "Epoch 20/30\n",
      "1400/1400 [==============================] - 284s 203ms/step - loss: 0.0098 - precision: 0.9881 - recall: 0.9881 - accuracy: 0.4158 - val_loss: 0.1025 - val_precision: 0.9375 - val_recall: 0.9375 - val_accuracy: 0.4157\n",
      "Epoch 21/30\n",
      "1400/1400 [==============================] - 295s 211ms/step - loss: 0.0093 - precision: 0.9888 - recall: 0.9888 - accuracy: 0.4167 - val_loss: 0.1061 - val_precision: 0.9375 - val_recall: 0.9375 - val_accuracy: 0.4151\n",
      "Epoch 22/30\n",
      "1400/1400 [==============================] - 293s 209ms/step - loss: 0.0089 - precision: 0.9894 - recall: 0.9894 - accuracy: 0.4172 - val_loss: 0.1093 - val_precision: 0.9375 - val_recall: 0.9375 - val_accuracy: 0.4164\n",
      "Epoch 23/30\n",
      "1400/1400 [==============================] - 293s 209ms/step - loss: 0.0089 - precision: 0.9893 - recall: 0.9893 - accuracy: 0.4178 - val_loss: 0.1111 - val_precision: 0.9370 - val_recall: 0.9370 - val_accuracy: 0.4166\n",
      "Epoch 24/30\n",
      "1400/1400 [==============================] - 293s 209ms/step - loss: 0.0082 - precision: 0.9902 - recall: 0.9902 - accuracy: 0.4184 - val_loss: 0.1170 - val_precision: 0.9371 - val_recall: 0.9371 - val_accuracy: 0.4172\n",
      "Epoch 25/30\n",
      "1400/1400 [==============================] - 289s 206ms/step - loss: 0.0079 - precision: 0.9907 - recall: 0.9907 - accuracy: 0.4191 - val_loss: 0.1164 - val_precision: 0.9373 - val_recall: 0.9373 - val_accuracy: 0.4177\n",
      "Epoch 26/30\n",
      "1400/1400 [==============================] - 293s 209ms/step - loss: 0.0076 - precision: 0.9911 - recall: 0.9911 - accuracy: 0.4198 - val_loss: 0.1244 - val_precision: 0.9370 - val_recall: 0.9370 - val_accuracy: 0.4179\n",
      "Epoch 27/30\n",
      "1400/1400 [==============================] - 301s 215ms/step - loss: 0.0073 - precision: 0.9914 - recall: 0.9914 - accuracy: 0.4204 - val_loss: 0.1231 - val_precision: 0.9368 - val_recall: 0.9368 - val_accuracy: 0.4188\n",
      "Epoch 28/30\n",
      "1400/1400 [==============================] - 347s 248ms/step - loss: 0.0069 - precision: 0.9919 - recall: 0.9919 - accuracy: 0.4213 - val_loss: 0.1274 - val_precision: 0.9371 - val_recall: 0.9371 - val_accuracy: 0.4194\n",
      "Epoch 29/30\n",
      "1400/1400 [==============================] - 304s 217ms/step - loss: 0.0068 - precision: 0.9921 - recall: 0.9921 - accuracy: 0.4217 - val_loss: 0.1257 - val_precision: 0.9367 - val_recall: 0.9367 - val_accuracy: 0.4188\n",
      "Epoch 30/30\n",
      "1400/1400 [==============================] - 323s 231ms/step - loss: 0.0064 - precision: 0.9924 - recall: 0.9924 - accuracy: 0.4219 - val_loss: 0.1306 - val_precision: 0.9364 - val_recall: 0.9364 - val_accuracy: 0.4192\n"
     ]
    },
    {
     "data": {
      "text/plain": [
       "<tensorflow.python.keras.callbacks.History at 0x25c10f14460>"
      ]
     },
     "execution_count": 47,
     "metadata": {},
     "output_type": "execute_result"
    }
   ],
   "source": [
    "model.fit(X_train, y_train, validation_data=(X_test, y_test), batch_size=128, epochs=30, verbose=1)"
   ]
  },
  {
   "cell_type": "markdown",
   "metadata": {},
   "source": [
    "loss: 0.0064 - precision: 0.9924 - recall: 0.9924 - accuracy: 0.4219\n",
    "\n",
    "val_loss: 0.1306 - val_precision: 0.9364 - val_recall: 0.9364 - val_accuracy: 0.4192"
   ]
  },
  {
   "cell_type": "markdown",
   "metadata": {},
   "source": [
    "## Вторая модель"
   ]
  },
  {
   "cell_type": "code",
   "execution_count": 48,
   "metadata": {},
   "outputs": [],
   "source": [
    "# один вход для слов\n",
    "word_in = Input(shape=(sent_max_len))\n",
    "emb_word = Embedding(input_dim=len(word2id), output_dim=20, mask_zero=True)(word_in)\n",
    "\n",
    "# другой вход для символов\n",
    "char_in = Input(shape=(sent_max_len, char_max_len))\n",
    "emb_char = TimeDistributed(Embedding(input_dim=len(char2id), output_dim=10, input_length=char_max_len))(char_in)\n",
    "# свертка на символах (CharRNN) применяется к каждому слову отдельно\n",
    "char_enc = TimeDistributed(Conv1D(filters=12, kernel_size=3))(emb_char)\n",
    "char_flat = TimeDistributed(Flatten())(char_enc)\n",
    "\n",
    "# LSTM проходится по всей последовательности, на каждом шаге беря эмбеддинг слова по словарю + символьный эмбеддинг слова \n",
    "x = concatenate([emb_word, char_flat])\n",
    "main_lstm = Bidirectional(LSTM(units=128, return_sequences=True,\n",
    "                               recurrent_dropout=0.2))(x)\n",
    "out = TimeDistributed(Dense(len(tag2id), activation=\"softmax\"))(main_lstm)\n",
    "\n",
    "model = Model(inputs=[char_in, word_in], outputs=out)\n",
    "\n",
    "\n",
    "optimizer = optimizers.Adam(learning_rate=0.001)\n",
    "model.compile(optimizer=optimizer, loss=\"categorical_crossentropy\", metrics = [tf.keras.metrics.Precision(), tf.keras.metrics.Recall(), tf.keras.metrics.Accuracy()])"
   ]
  },
  {
   "cell_type": "code",
   "execution_count": 49,
   "metadata": {},
   "outputs": [
    {
     "name": "stdout",
     "output_type": "stream",
     "text": [
      "Model: \"model_2\"\n",
      "__________________________________________________________________________________________________\n",
      "Layer (type)                    Output Shape         Param #     Connected to                     \n",
      "==================================================================================================\n",
      "input_4 (InputLayer)            [(None, 34, 34)]     0                                            \n",
      "__________________________________________________________________________________________________\n",
      "time_distributed_2 (TimeDistrib (None, 34, 34, 10)   700         input_4[0][0]                    \n",
      "__________________________________________________________________________________________________\n",
      "input_3 (InputLayer)            [(None, 34)]         0                                            \n",
      "__________________________________________________________________________________________________\n",
      "time_distributed_3 (TimeDistrib (None, 34, 32, 12)   372         time_distributed_2[0][0]         \n",
      "__________________________________________________________________________________________________\n",
      "embedding_2 (Embedding)         (None, 34, 20)       470680      input_3[0][0]                    \n",
      "__________________________________________________________________________________________________\n",
      "time_distributed_4 (TimeDistrib (None, 34, 384)      0           time_distributed_3[0][0]         \n",
      "__________________________________________________________________________________________________\n",
      "concatenate (Concatenate)       (None, 34, 404)      0           embedding_2[0][0]                \n",
      "                                                                 time_distributed_4[0][0]         \n",
      "__________________________________________________________________________________________________\n",
      "bidirectional_2 (Bidirectional) (None, 34, 256)      545792      concatenate[0][0]                \n",
      "__________________________________________________________________________________________________\n",
      "time_distributed_5 (TimeDistrib (None, 34, 2)        514         bidirectional_2[0][0]            \n",
      "==================================================================================================\n",
      "Total params: 1,018,058\n",
      "Trainable params: 1,018,058\n",
      "Non-trainable params: 0\n",
      "__________________________________________________________________________________________________\n"
     ]
    }
   ],
   "source": [
    "model.summary()"
   ]
  },
  {
   "cell_type": "code",
   "execution_count": 50,
   "metadata": {},
   "outputs": [
    {
     "data": {
      "image/png": "[encoded data removed]",
      "text/plain": [
       "<IPython.core.display.Image object>"
      ]
     },
     "execution_count": 50,
     "metadata": {},
     "output_type": "execute_result"
    }
   ],
   "source": [
    "plot_model(model, show_shapes=True, show_layer_names=False)"
   ]
  },
  {
   "cell_type": "code",
   "execution_count": null,
   "metadata": {},
   "outputs": [],
   "source": [
    "model.fit([X_char_train, X_train], y_train, validation_data=([X_char_test, X_test], y_test), batch_size=128, epochs=30, verbose=1)"
   ]
  },
  {
   "cell_type": "markdown",
   "metadata": {},
   "source": [
    "Собственно, в этой модели у меня происходит что-то не то с accuracy и исправить это у меня никак не получилось."
   ]
  }
 ],
 "metadata": {
  "kernelspec": {
   "display_name": "Python 3",
   "language": "python",
   "name": "python3"
  },
  "language_info": {
   "codemirror_mode": {
    "name": "ipython",
    "version": 3
   },
   "file_extension": ".py",
   "mimetype": "text/x-python",
   "name": "python",
   "nbconvert_exporter": "python",
   "pygments_lexer": "ipython3",
   "version": "3.8.6"
  }
 },
 "nbformat": 4,
 "nbformat_minor": 4
}
